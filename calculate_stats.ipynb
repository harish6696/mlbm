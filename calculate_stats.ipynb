{
 "cells": [
  {
   "cell_type": "code",
   "execution_count": 86,
   "metadata": {},
   "outputs": [],
   "source": [
    "\n",
    "import numpy as np\n",
    "import torch\n",
    "from pathlib import Path\n",
    "from hydra.utils import to_absolute_path\n",
    "#append the datasets starting with the word velocity froom  the folder \"final_dataset_for_train\""
   ]
  },
  {
   "cell_type": "code",
   "execution_count": 87,
   "metadata": {},
   "outputs": [],
   "source": [
    "field_name = \"mixed\"\n",
    "num_channels = 3\n",
    "\n",
    "#order of raw fields: density, velocity_x, velocity_y\n",
    "\n",
    "base_folder = \"Datasets/final_combined_dataset_for_train\"\n",
    "Re_list = [200, 300, 400]\n",
    "data = torch.empty([0,num_channels,1024,256])"
   ]
  },
  {
   "cell_type": "code",
   "execution_count": 88,
   "metadata": {},
   "outputs": [
    {
     "name": "stderr",
     "output_type": "stream",
     "text": [
      "/tmp/ipykernel_2124911/3921804151.py:5: FutureWarning: You are using `torch.load` with `weights_only=False` (the current default value), which uses the default pickle module implicitly. It is possible to construct malicious pickle data which will execute arbitrary code during unpickling (See https://github.com/pytorch/pytorch/blob/main/SECURITY.md#untrusted-models for more details). In a future release, the default value for `weights_only` will be flipped to `True`. This limits the functions that could be executed during unpickling. Arbitrary objects will no longer be allowed to be loaded via this mode unless they are explicitly allowlisted by the user via `torch.serialization.add_safe_globals`. We recommend you start setting `weights_only=True` for any use case where you don't have full control of the loaded file. Please open an issue on GitHub for any issues related to this experimental feature.\n",
      "  loaded_data = torch.load(data_file_path)\n"
     ]
    }
   ],
   "source": [
    "for Re in Re_list:\n",
    "    data_file = f\"{field_name}_Re_{Re}.pt\"\n",
    "    #join the path with the base folder\n",
    "    data_file_path = Path(base_folder).joinpath(data_file)\n",
    "    loaded_data = torch.load(data_file_path)\n",
    "    loaded_data = loaded_data[350:]\n",
    "    data = torch.cat([data, loaded_data], dim=0)\n",
    "    "
   ]
  },
  {
   "cell_type": "code",
   "execution_count": 89,
   "metadata": {},
   "outputs": [
    {
     "name": "stdout",
     "output_type": "stream",
     "text": [
      "torch.Size([1953, 3, 1024, 256])\n",
      "mixed: [ 1.1303548e+00  2.9988546e-02 -1.5189227e-07] and [0.05823061 0.0137524  0.01020263]\n",
      "Re: mean: 300.0 and std: 81.64965809277261\n"
     ]
    }
   ],
   "source": [
    "print(data.shape)\n",
    "data= data.numpy()\n",
    "mean = np.mean(data, axis = (0,2,3))\n",
    "std= np.std(data, axis = (0,2,3))\n",
    "#print the field name and the mean value\n",
    "print(f\"{field_name}: {mean} and {std}\")\n",
    "#calculate the mean and std of the Re_list\n",
    "Re_mean = np.mean(np.array(Re_list))\n",
    "Re_std = np.std(np.array(Re_list))\n",
    "print(f\"Re: mean: {Re_mean} and std: {Re_std}\")\n"
   ]
  },
  {
   "cell_type": "code",
   "execution_count": 90,
   "metadata": {},
   "outputs": [
    {
     "name": "stdout",
     "output_type": "stream",
     "text": [
      "(1952, 3, 1024, 256)\n",
      "mixed: [ 1.2319098e-04  1.0259549e-05 -4.2665965e-07] and [0.00524045 0.00763329 0.01128776]\n"
     ]
    }
   ],
   "source": [
    "#Create acceleration by taking the difference between two consecutive data points along dimension 0\n",
    "acc = data[1:] - data[:-1]\n",
    "print(acc.shape)\n",
    "mean_acc = np.mean(acc, axis = (0,2,3))\n",
    "std_acc= np.std(acc, axis = (0,2,3))\n",
    "#print the field name and the mean value\n",
    "print(f\"{field_name}: {mean_acc} and {std_acc}\")"
   ]
  },
  {
   "cell_type": "markdown",
   "metadata": {},
   "source": [
    "# Stats for Raw-Data"
   ]
  },
  {
   "cell_type": "code",
   "execution_count": null,
   "metadata": {},
   "outputs": [],
   "source": [
    "\"\"\"\n",
    "For Re from 200 to 400, the mean and std of the velocity field are for grid resolution 1024x256:\n",
    "velocity: \n",
    "    mean:   [ 2.9988546e-02 -1.5189227e-07 (approx 0)]\n",
    "    std:    [0.0137524  0.01020263] \n",
    "\n",
    "density:\n",
    "    mean: [1.1303548] \n",
    "    std: [0.05823061]\n",
    "\n",
    "Re: mean: 300.0\n",
    "    std: 81.64965809277261\n",
    "\"\"\"\n",
    "\n",
    "\"\"\"\n",
    "For Re from 100 to 500, the mean and std of the velocity field are for grid resolution 1024x256:\n",
    "velocity: \n",
    "    mean:  [2.9989550e-02 2.9060382e-07 (approx 0)] \n",
    "    std:   [0.01839873 0.01116166]\n",
    "\n",
    "density:\n",
    "    mean:[1.1166793] \n",
    "    std: [0.05635419]\n",
    "\n",
    "Re: mean: 300.0\n",
    "    std: 141.4213562373095\n",
    "\"\"\""
   ]
  },
  {
   "cell_type": "markdown",
   "metadata": {},
   "source": [
    "# For Derivative(acceleration) of density and velocity"
   ]
  },
  {
   "cell_type": "code",
   "execution_count": null,
   "metadata": {},
   "outputs": [],
   "source": [
    "\"\"\"\n",
    "shape: (1952, 3, 1024, 256), original data has 1953 samples in time\n",
    "\n",
    "For Re from 200 to 400, the mean and std of the acceleration field are for grid resolution 1024x256:\n",
    "velocity: \n",
    "    mean:   [1.0259549e-05 -4.2665965e-07] \n",
    "    std:    [0.00763329 0.01128776]\n",
    "\n",
    "density:\n",
    "    mean: 1.2319098e-04 \n",
    "    std: 0.00524045 \n",
    "\n",
    "Re: mean: 300.0\n",
    "    std: 81.64965809277261\n",
    "\"\"\""
   ]
  }
 ],
 "metadata": {
  "kernelspec": {
   "display_name": "lbm",
   "language": "python",
   "name": "python3"
  },
  "language_info": {
   "codemirror_mode": {
    "name": "ipython",
    "version": 3
   },
   "file_extension": ".py",
   "mimetype": "text/x-python",
   "name": "python",
   "nbconvert_exporter": "python",
   "pygments_lexer": "ipython3",
   "version": "3.10.14"
  }
 },
 "nbformat": 4,
 "nbformat_minor": 2
}
