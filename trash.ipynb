{
 "cells": [
  {
   "cell_type": "code",
   "execution_count": null,
   "metadata": {},
   "outputs": [],
   "source": [
    "import os\n",
    "import shutil\n",
    "\n",
    "def move_files(base_folder):\n",
    "    for root, dirs, files in os.walk(base_folder):\n",
    "        for dir_name in dirs:\n",
    "            subfolder_path = os.path.join(root, dir_name)\n",
    "            \n",
    "            # List all files in the subfolder\n",
    "            for sub_root, sub_dirs, sub_files in os.walk(subfolder_path):\n",
    "                for file in sub_files:\n",
    "                    source_file = os.path.join(sub_root, file)\n",
    "                    destination = root  # Move one level up\n",
    "                    \n",
    "                    # Move file\n",
    "                    try:\n",
    "                        shutil.move(source_file, destination)\n",
    "                        print(f\"Moved: {source_file} to {destination}\")\n",
    "                    except Exception as e:\n",
    "                        print(f\"Failed to move {source_file}: {e}\")\n",
    "                \n",
    "                # Break after the first level to avoid unnecessary deeper iteration\n",
    "                break\n",
    "\n",
    "# Specify your base folder here\n",
    "#base_folder = f\"VS_Re_100_to_500_uniform_skip_20_256x64\"\n",
    "base_folder = f\"test_base_dir\"\n",
    "move_files(base_folder)\n",
    "\n"
   ]
  },
  {
   "cell_type": "code",
   "execution_count": null,
   "metadata": {},
   "outputs": [],
   "source": []
  }
 ],
 "metadata": {
  "kernelspec": {
   "display_name": "lbm",
   "language": "python",
   "name": "python3"
  },
  "language_info": {
   "codemirror_mode": {
    "name": "ipython",
    "version": 3
   },
   "file_extension": ".py",
   "mimetype": "text/x-python",
   "name": "python",
   "nbconvert_exporter": "python",
   "pygments_lexer": "ipython3",
   "version": "3.10.14"
  }
 },
 "nbformat": 4,
 "nbformat_minor": 2
}
